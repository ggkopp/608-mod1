{
 "cells": [
  {
   "cell_type": "code",
   "execution_count": 1,
   "id": "b194f96f-7f6c-47db-b48c-69ce7207441a",
   "metadata": {},
   "outputs": [
    {
     "name": "stdout",
     "output_type": "stream",
     "text": [
      "C:\\Users\\garre\\Desktop\\NWMSU\\Classes\\DataAnalyticsFundementals\\44-608\\608-mod1\\ch02\n"
     ]
    }
   ],
   "source": [
    "cd C:\\Users\\garre\\Desktop\\NWMSU\\Classes\\DataAnalyticsFundementals\\44-608\\608-mod1\\ch02"
   ]
  },
  {
   "cell_type": "code",
   "execution_count": 2,
   "id": "64a952d7-f8eb-46d4-98d4-b4704cee8308",
   "metadata": {},
   "outputs": [
    {
     "ename": "NameError",
     "evalue": "name 'fig02_02' is not defined",
     "output_type": "error",
     "traceback": [
      "\u001b[1;31m---------------------------------------------------------------------------\u001b[0m",
      "\u001b[1;31mNameError\u001b[0m                                 Traceback (most recent call last)",
      "Input \u001b[1;32mIn [2]\u001b[0m, in \u001b[0;36m<cell line: 1>\u001b[1;34m()\u001b[0m\n\u001b[1;32m----> 1\u001b[0m \u001b[43mfig02_02\u001b[49m\u001b[38;5;241m.\u001b[39mpy\n",
      "\u001b[1;31mNameError\u001b[0m: name 'fig02_02' is not defined"
     ]
    }
   ],
   "source": [
    "fig02_02.py"
   ]
  },
  {
   "cell_type": "code",
   "execution_count": 3,
   "id": "dbe1ef91-aad6-454f-81c1-93580413f87c",
   "metadata": {},
   "outputs": [
    {
     "ename": "SyntaxError",
     "evalue": "invalid syntax (2163118790.py, line 1)",
     "output_type": "error",
     "traceback": [
      "\u001b[1;36m  Input \u001b[1;32mIn [3]\u001b[1;36m\u001b[0m\n\u001b[1;33m    ipython fig02_02.py\u001b[0m\n\u001b[1;37m            ^\u001b[0m\n\u001b[1;31mSyntaxError\u001b[0m\u001b[1;31m:\u001b[0m invalid syntax\n"
     ]
    }
   ],
   "source": [
    "ipython fig02_02.py"
   ]
  },
  {
   "cell_type": "code",
   "execution_count": 4,
   "id": "31201ec7-9caa-4d17-8f18-1528d1b1f93f",
   "metadata": {},
   "outputs": [
    {
     "ename": "NameError",
     "evalue": "name 'ipython' is not defined",
     "output_type": "error",
     "traceback": [
      "\u001b[1;31m---------------------------------------------------------------------------\u001b[0m",
      "\u001b[1;31mNameError\u001b[0m                                 Traceback (most recent call last)",
      "Input \u001b[1;32mIn [4]\u001b[0m, in \u001b[0;36m<cell line: 1>\u001b[1;34m()\u001b[0m\n\u001b[1;32m----> 1\u001b[0m \u001b[43mipython\u001b[49m\n",
      "\u001b[1;31mNameError\u001b[0m: name 'ipython' is not defined"
     ]
    }
   ],
   "source": [
    "ipython"
   ]
  },
  {
   "cell_type": "code",
   "execution_count": 6,
   "id": "8dbf4b52-4d71-47ff-bde9-722bab30f719",
   "metadata": {},
   "outputs": [
    {
     "ename": "SyntaxError",
     "evalue": "invalid syntax (2163118790.py, line 1)",
     "output_type": "error",
     "traceback": [
      "\u001b[1;36m  Input \u001b[1;32mIn [6]\u001b[1;36m\u001b[0m\n\u001b[1;33m    ipython fig02_02.py\u001b[0m\n\u001b[1;37m            ^\u001b[0m\n\u001b[1;31mSyntaxError\u001b[0m\u001b[1;31m:\u001b[0m invalid syntax\n"
     ]
    }
   ],
   "source": [
    "ipython fig02_02.py"
   ]
  },
  {
   "cell_type": "code",
   "execution_count": 5,
   "id": "a05cbc27-6615-4028-96a5-f758548eaa72",
   "metadata": {},
   "outputs": [
    {
     "name": "stdout",
     "output_type": "stream",
     "text": [
      "C:\\Users\\garre\\Desktop\\NWMSU\\Classes\\DataAnalyticsFundementals\\44-608\\608-mod1\\ch02\n"
     ]
    }
   ],
   "source": [
    "cd C:\\Users\\garre\\Desktop\\NWMSU\\Classes\\DataAnalyticsFundementals\\44-608\\608-mod1\\ch02"
   ]
  },
  {
   "cell_type": "code",
   "execution_count": 7,
   "id": "aeba87bf-65cb-4aef-9291-db2be858aadf",
   "metadata": {},
   "outputs": [
    {
     "name": "stdin",
     "output_type": "stream",
     "text": [
      "Enter first integer:  12\n",
      "Enter second integer:  27\n",
      "Enter third integer:  36\n"
     ]
    },
    {
     "name": "stdout",
     "output_type": "stream",
     "text": [
      "Minimum value is 12\n"
     ]
    }
   ],
   "source": [
    "# Fig. 2.2: fig02_02.py Garrett Kopp\n",
    "\"\"\"Find the minimum of three values.\"\"\"\n",
    "\n",
    "number1 = int(input('Enter first integer: '))\n",
    "number2 = int(input('Enter second integer: '))\n",
    "number3 = int(input('Enter third integer: '))\n",
    "\n",
    "minimum = number1  \n",
    "\n",
    "if number2 < minimum:\n",
    "    minimum = number2\n",
    "\n",
    "if number3 < minimum:\n",
    "    minimum = number3\n",
    "\n",
    "print('Minimum value is', minimum)"
   ]
  },
  {
   "cell_type": "code",
   "execution_count": 8,
   "id": "696b268c-f3f5-4af8-a76b-5a4f189ed27b",
   "metadata": {},
   "outputs": [
    {
     "data": {
      "text/plain": [
       "12"
      ]
     },
     "execution_count": 8,
     "metadata": {},
     "output_type": "execute_result"
    }
   ],
   "source": [
    "min(36, 27, 12)"
   ]
  },
  {
   "cell_type": "code",
   "execution_count": 9,
   "id": "5481a048-8e1e-4e4d-857d-09102d958fe1",
   "metadata": {},
   "outputs": [
    {
     "data": {
      "text/plain": [
       "36"
      ]
     },
     "execution_count": 9,
     "metadata": {},
     "output_type": "execute_result"
    }
   ],
   "source": [
    "max(36, 27, 12)"
   ]
  },
  {
   "cell_type": "code",
   "execution_count": 10,
   "id": "b7e51475-daf9-400e-b66b-16179f76afe1",
   "metadata": {},
   "outputs": [
    {
     "name": "stdin",
     "output_type": "stream",
     "text": [
      "Enter first integer:  36\n",
      "Enter second integer:  27\n",
      "Enter third integer:  12\n"
     ]
    },
    {
     "name": "stdout",
     "output_type": "stream",
     "text": [
      "MAXIMUM value is 36\n"
     ]
    }
   ],
   "source": [
    "# Fig. 2.2: fig02_02.py Garrett Kopp\n",
    "\"\"\"Find the MAXIMUM of three values.\"\"\"\n",
    "\n",
    "number1 = int(input('Enter first integer: '))\n",
    "number2 = int(input('Enter second integer: '))\n",
    "number3 = int(input('Enter third integer: '))\n",
    "\n",
    "maximum = number1  \n",
    "\n",
    "if number2 > maximum:\n",
    "    maximum = number2\n",
    "\n",
    "if number3 > maximum:\n",
    "    maximum = number3\n",
    "\n",
    "print('MAXIMUM value is', maximum)"
   ]
  },
  {
   "cell_type": "code",
   "execution_count": null,
   "id": "8bc7c98d-d6ea-41eb-84da-b170488f131f",
   "metadata": {},
   "outputs": [],
   "source": []
  }
 ],
 "metadata": {
  "kernelspec": {
   "display_name": "Python 3 (ipykernel)",
   "language": "python",
   "name": "python3"
  },
  "language_info": {
   "codemirror_mode": {
    "name": "ipython",
    "version": 3
   },
   "file_extension": ".py",
   "mimetype": "text/x-python",
   "name": "python",
   "nbconvert_exporter": "python",
   "pygments_lexer": "ipython3",
   "version": "3.9.12"
  }
 },
 "nbformat": 4,
 "nbformat_minor": 5
}
